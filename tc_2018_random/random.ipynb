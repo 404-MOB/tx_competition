{
 "cells": [
  {
   "cell_type": "code",
   "execution_count": 13,
   "metadata": {},
   "outputs": [
    {
     "name": "stdout",
     "output_type": "stream",
     "text": [
      "<class 'pandas.core.frame.DataFrame'>\n",
      "RangeIndex: 2265989 entries, 0 to 2265988\n",
      "Data columns (total 2 columns):\n",
      "aid    int64\n",
      "uid    int64\n",
      "dtypes: int64(2)\n",
      "memory usage: 34.6 MB\n"
     ]
    }
   ],
   "source": [
    "import pandas as pd\n",
    "import numpy as np\n",
    "import os\n",
    "\n",
    "test=pd.read_csv('../data/test1.csv')\n",
    "\n",
    "test.info()\n"
   ]
  },
  {
   "cell_type": "code",
   "execution_count": 17,
   "metadata": {},
   "outputs": [
    {
     "data": {
      "text/plain": [
       "1"
      ]
     },
     "execution_count": 17,
     "metadata": {},
     "output_type": "execute_result"
    }
   ],
   "source": [
    "ts = np.random.randint(low=0, high=11,size=(2265989, 1)) / 10.0\n",
    "test['score'] = pd.DataFrame(ts)\n",
    "submission = pd.DataFrame(test,columns=['aid', 'uid', 'score'])\n",
    "submission.to_csv('submission.csv', index=False)\n",
    "os.system('zip r10.zip ../data/submission.csv')\n"
   ]
  },
  {
   "cell_type": "code",
   "execution_count": null,
   "metadata": {},
   "outputs": [],
   "source": []
  }
 ],
 "metadata": {
  "kernelspec": {
   "display_name": "Python 3",
   "language": "python",
   "name": "python3"
  },
  "language_info": {
   "codemirror_mode": {
    "name": "ipython",
    "version": 3
   },
   "file_extension": ".py",
   "mimetype": "text/x-python",
   "name": "python",
   "nbconvert_exporter": "python",
   "pygments_lexer": "ipython3",
   "version": "3.6.4"
  }
 },
 "nbformat": 4,
 "nbformat_minor": 2
}
