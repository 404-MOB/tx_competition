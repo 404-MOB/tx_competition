{
 "cells": [
  {
   "cell_type": "markdown",
   "metadata": {},
   "source": [
    "在作者Baseline代码基础上增加了随机搜索，同时直接读取sparse格式的训练数，并且直接读入训练标签，不用再次读入所有训练数据，最后保存预测的结果和最好的模型best_estimator, 同时将feature_importance写入文件方面后期分析"
   ]
  },
  {
   "cell_type": "code",
   "execution_count": null,
   "metadata": {},
   "outputs": [],
   "source": [
    "import pandas as pd\n",
    "import lightgbm as lgb\n",
    "import numpy as np\n",
    "#import xgboost as xgb\n",
    "from sklearn.model_selection import train_test_split\n",
    "from sklearn.feature_extraction.text import CountVectorizer\n",
    "from sklearn.preprocessing import OneHotEncoder,LabelEncoder\n",
    "from sklearn.externals import joblib\n",
    "from scipy import sparse\n",
    "from sklearn.model_selection import RandomizedSearchCV\n",
    "import os"
   ]
  },
  {
   "cell_type": "code",
   "execution_count": null,
   "metadata": {},
   "outputs": [],
   "source": [
    "predict = pd.read_csv('./datasets/test1.csv')\n",
    "res = predict[['aid', 'uid']]\n",
    "\n",
    "# sparse.save_npz('./datasets/train.npz', train_x)\n",
    "# sparse.save_npz('./datasets/test.npz', test_x)"
   ]
  },
  {
   "cell_type": "code",
   "execution_count": null,
   "metadata": {},
   "outputs": [],
   "source": [
    "print('start')\n",
    "train_x = sparse.load_npz('./datasets/train.npz')\n",
    "test_x = sparse.load_npz('./datasets/test.npz')\n",
    "train_y = pd.read_csv('./datasets/train_label.csv', names=['label'])  # 直接读入label文件，省去了读取train源文件时间\n",
    "train_y[train_y == -1] = 0\n",
    "clf = lgb.LGBMClassifier(\n",
    "        boosting_type='gbdt', max_depth=-1, objective='binary',\n",
    "        subsample=0.7, colsample_bytree=0.8, subsample_freq=1,\n",
    "        learning_rate=0.05, random_state=2018, n_jobs=-1\n",
    "    )"
   ]
  },
  {
   "cell_type": "code",
   "execution_count": null,
   "metadata": {},
   "outputs": [],
   "source": [
    "# 网格搜索的参数空间\n",
    "params = {\n",
    "    'n_estimators' : np.arange(1000, 8000, 1000),\n",
    "    'num_leaves' : np.arange(30, 45, 2),\n",
    "    'min_child_weight' : np.arange(40, 65, 5),\n",
    "    'reg_alpha' : [0.2, 0.4, 0.8, 1],\n",
    "    'reg_lambda' : [0.2, 0.4, 0.8, 1],\n",
    "}\n",
    "\n",
    "# 迭代次数为10次，cv=5进行5折交叉验证，总共运行50轮\n",
    "rand_search = RandomizedSearchCV(clf, params, cv=5, n_iter=10, random_state=2018, verbose=2)\n",
    "rand_search.fit(train_x, np.array(train_y).squeeze())\n",
    "best = rand_search.best_estimator_  # 获取最佳的模型\n",
    "print(rand_search.best_params_)  # 输出最佳模型的参数\n",
    "res['score'] = best.predict_proba(test_x)[:, 1]\n",
    "res['score'] = res['score'].apply(lambda x: float('%.6f' % x))\n",
    "res.to_csv('./datasets/submission4.csv', index=False)\n",
    "fea_imp = best.feature_importances_  # 输出最佳模型的特征重要性\n",
    "fea_imp = pd.Series(fea_imp)\n",
    "fea_imp.to_csv('./datasets/fea_imp.csv', index=False)  # 保存至文件\n",
    "\n",
    "joblib.dump(best, './datasets/random_search_best.model')"
   ]
  },
  {
   "cell_type": "code",
   "execution_count": null,
   "metadata": {},
   "outputs": [],
   "source": []
  }
 ],
 "metadata": {
  "kernelspec": {
   "display_name": "Python 3",
   "language": "python",
   "name": "python3"
  },
  "language_info": {
   "codemirror_mode": {
    "name": "ipython",
    "version": 3
   },
   "file_extension": ".py",
   "mimetype": "text/x-python",
   "name": "python",
   "nbconvert_exporter": "python",
   "pygments_lexer": "ipython3",
   "version": "3.6.4"
  }
 },
 "nbformat": 4,
 "nbformat_minor": 2
}
