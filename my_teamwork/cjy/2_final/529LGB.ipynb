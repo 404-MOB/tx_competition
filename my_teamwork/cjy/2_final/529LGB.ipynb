{
 "cells": [
  {
   "cell_type": "code",
   "execution_count": null,
   "metadata": {},
   "outputs": [],
   "source": [
    "import pandas as pd\n",
    "import numpy as np\n",
    "import lightgbm as lgb\n",
    "from sklearn.model_selection import train_test_split\n",
    "from sklearn.feature_extraction.text import CountVectorizer#,TfidfTransformer\n",
    "from sklearn.preprocessing import OneHotEncoder,LabelEncoder\n",
    "from scipy import sparse\n",
    "import os"
   ]
  },
  {
   "cell_type": "code",
   "execution_count": null,
   "metadata": {},
   "outputs": [],
   "source": [
    "trainc=pd.read_csv('data1/train.csv')\n",
    "trainc=trainc[trainc.label!=-1]\n",
    "\n",
    "testc=pd.read_csv('data1/test.csv')\n",
    "testc['label'] = -1\n",
    "\n",
    "data=pd.concat([trainc,testc])\n",
    "data=data.fillna('-1')\n",
    "\n",
    "del trainc\n",
    "del testc"
   ]
  },
  {
   "cell_type": "code",
   "execution_count": null,
   "metadata": {},
   "outputs": [],
   "source": [
    "data.info()"
   ]
  },
  {
   "cell_type": "code",
   "execution_count": null,
   "metadata": {},
   "outputs": [],
   "source": [
    "one_hot_feature=['LBS','age','carrier','consumptionAbility','education','gender','house']\n",
    "vector_feature=['appIdAction','appIdInstall','marriageStatus','interest1','interest2','interest3','interest4','interest5','kw1','kw2','kw3','topic1','topic2','topic3']\n",
    "#LabelEncoder将各种标签分配一个可数的连续编号\n",
    "for feature in one_hot_feature:\n",
    "    try:\n",
    "        data[feature] = LabelEncoder().fit_transform(data[feature].apply(int))\n",
    "    except:\n",
    "        data[feature] = LabelEncoder().fit_transform(data[feature])\n",
    "        \n",
    "train=data[data.label!=-1]\n",
    "train_y=train.pop('label')\n",
    "\n",
    "test=data[data.label==-1]\n",
    "res=test[['aid','uid']]\n",
    "test=test.drop('label',axis=1)\n",
    "\n",
    "train_x=train[['advertiserId','campaignId', 'creativeId','creativeSize','adCategoryId', 'productId','productType']]\n",
    "              # ,'ct_0','ct_1','ct_2','ct_3','ct_4','os_0','os_1','os_2']]\n",
    "              # ,'has_appins','has_appact','max_marriageStatus']]\n",
    "test_x = test[['advertiserId','campaignId', 'creativeId','creativeSize','adCategoryId', 'productId', 'productType']]\n",
    "             # ,'ct_0','ct_1','ct_2','ct_3','ct_4','os_0','os_1','os_2']]\n",
    "              ##,'has_appins','has_appact','max_marriageStatus']]"
   ]
  },
  {
   "cell_type": "code",
   "execution_count": null,
   "metadata": {},
   "outputs": [],
   "source": [
    "#one-hot特征reshape\n",
    "enc = OneHotEncoder()\n",
    "for feature in one_hot_feature:\n",
    "    enc.fit(data[feature].values.reshape(-1, 1))\n",
    "    train_a=enc.transform(train[feature].values.reshape(-1, 1))\n",
    "    test_a = enc.transform(test[feature].values.reshape(-1, 1))\n",
    "    train_x= sparse.hstack((train_x, train_a))\n",
    "    test_x = sparse.hstack((test_x, test_a))\n",
    "print('one-hot prepared !')\n",
    "del train_a\n",
    "del test_a"
   ]
  },
  {
   "cell_type": "code",
   "execution_count": null,
   "metadata": {},
   "outputs": [],
   "source": [
    "##向量特征reshape\n",
    "cv=CountVectorizer(ngram_range=(1, 2),token_pattern='(?u)\\\\b\\\\w+\\\\b')\n",
    "for feature in vector_feature:\n",
    "    cv.fit(data[feature])\n",
    "    train_a = cv.transform(train[feature])\n",
    "    test_a = cv.transform(test[feature])\n",
    "    train_x = sparse.hstack((train_x, train_a))\n",
    "    test_x = sparse.hstack((test_x, test_a))\n",
    "print('cv prepared !')\n",
    "del train_a\n",
    "del test_a"
   ]
  },
  {
   "cell_type": "code",
   "execution_count": null,
   "metadata": {},
   "outputs": [],
   "source": [
    "def LGB_predict(train_x,train_y,test_x,res):\n",
    "    print(\"LGB test\")\n",
    "    clf = lgb.LGBMClassifier(\n",
    "        boosting_type='gbdt', num_leaves=31, reg_alpha=0.0, reg_lambda=1,zero_as_missing=True,\n",
    "        max_depth=-1, n_estimators=1500, objective='binary',\n",
    "        subsample=0.9, colsample_bytree=0.8, subsample_freq=1,\n",
    "        learning_rate=0.2, min_child_weight=50, random_state=2018, n_jobs=100\n",
    "    )\n",
    "    clf.fit(train_x, train_y, eval_set=[(train_x, train_y)], eval_metric='auc',early_stopping_rounds=100)\n",
    "    res['score'] = clf.predict_proba(test_x)[:,1]\n",
    "    res['score'] = res['score'].apply(lambda x: float('%.6f' % x))\n",
    "    res.to_csv('../data/submission.csv', index=False)\n",
    "    os.system('zip baseline.zip ../data/submission.csv')\n",
    "    return clf\n",
    "\n",
    "model=LGB_predict(train_x,train_y,test_x,res)"
   ]
  },
  {
   "cell_type": "code",
   "execution_count": null,
   "metadata": {},
   "outputs": [],
   "source": []
  }
 ],
 "metadata": {
  "kernelspec": {
   "display_name": "Python 3",
   "language": "python",
   "name": "python3"
  },
  "language_info": {
   "codemirror_mode": {
    "name": "ipython",
    "version": 3
   },
   "file_extension": ".py",
   "mimetype": "text/x-python",
   "name": "python",
   "nbconvert_exporter": "python",
   "pygments_lexer": "ipython3",
   "version": "3.6.4"
  }
 },
 "nbformat": 4,
 "nbformat_minor": 2
}
