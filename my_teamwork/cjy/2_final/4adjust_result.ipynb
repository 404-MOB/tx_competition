{
 "cells": [
  {
   "cell_type": "code",
   "execution_count": 1,
   "metadata": {},
   "outputs": [],
   "source": [
    "import pandas as pd\n",
    "import numpy as np"
   ]
  },
  {
   "cell_type": "markdown",
   "metadata": {},
   "source": [
    "#随机#"
   ]
  },
  {
   "cell_type": "code",
   "execution_count": 10,
   "metadata": {},
   "outputs": [],
   "source": [
    "test=pd.read_csv('../data/final/test1.csv')\n",
    "ts = np.random.randint(low=0, high=99,size=(11729073, 1)) / 10000.0\n",
    "ts2 = np.random.randint(low=-1, high=1,size=(11729073, 1))\n",
    "test['score'] = pd.DataFrame(ts*ts2)\n",
    "\n",
    "submission = pd.DataFrame(test,columns=['aid', 'uid', 'score'])\n",
    "submission.to_csv('submission.csv', index=False)"
   ]
  },
  {
   "cell_type": "markdown",
   "metadata": {},
   "source": [
    "#融合#"
   ]
  },
  {
   "cell_type": "code",
   "execution_count": 11,
   "metadata": {},
   "outputs": [],
   "source": [
    "trans1=pd.read_csv('C:/Users/caijiayue/Desktop/submission1.csv')\n",
    "trans2=pd.read_csv('C:/Users/caijiayue/Desktop/submission2.csv')"
   ]
  },
  {
   "cell_type": "code",
   "execution_count": 12,
   "metadata": {},
   "outputs": [],
   "source": [
    "#1\n",
    "t1_s=trans1['score']\n",
    "t2_s=trans2['score']\n",
    "t3=trans2\n",
    "t3['score'] = (t1_s+t2_s)/2.0\n",
    "#t3['score'] = t3['score'] + 0.000001\n",
    "#t3['score'] = (t1_s*0.1+t2_s)/1.1\n",
    "#t3['score'] = t3['score'].apply(lambda x:0 if x < 0.0 else x)\n",
    "t3['score'] = t3['score'].apply(lambda x: float('%.6f' % x))\n",
    "t3.to_csv('C:/Users/caijiayue/Desktop/submission.csv', index=False)"
   ]
  },
  {
   "cell_type": "code",
   "execution_count": 3,
   "metadata": {},
   "outputs": [],
   "source": [
    "#2\n",
    "#t3=trans2\n",
    "#t3['score'] = trans1['score']\n",
    "#t3.to_csv('C:/Users/caijiayue/Desktop/submission.csv', index=False)"
   ]
  },
  {
   "cell_type": "markdown",
   "metadata": {},
   "source": [
    "#调整#"
   ]
  },
  {
   "cell_type": "code",
   "execution_count": 8,
   "metadata": {},
   "outputs": [],
   "source": [
    "trans1=pd.read_csv('C:/Users/caijiayue/Desktop/submission1.csv')"
   ]
  },
  {
   "cell_type": "code",
   "execution_count": 9,
   "metadata": {},
   "outputs": [],
   "source": [
    "t3=trans1\n",
    "#t3['score'] = trans1['score'].apply(lambda x: float('%.6f' % x))\n",
    "t3['score'] = t3['score'].apply(lambda x:0 if x < 0.001 else x)\n",
    "t3['score'] = t3['score'].apply(lambda x:1.0 if x > 0.90 else x)\n",
    "t3['score'] = t3['score'].apply(lambda x: float('%.6f' % x))"
   ]
  },
  {
   "cell_type": "code",
   "execution_count": 9,
   "metadata": {},
   "outputs": [],
   "source": [
    "#t3=trans1\n",
    "#t3['score'] = trans1['score'] + 0.000001\n",
    "#t3['score'] = t3['score'].apply(lambda x: float('%.6f' % x))"
   ]
  },
  {
   "cell_type": "code",
   "execution_count": 10,
   "metadata": {},
   "outputs": [],
   "source": [
    "t3.to_csv('C:/Users/caijiayue/Desktop/submission.csv', index=False)"
   ]
  },
  {
   "cell_type": "code",
   "execution_count": null,
   "metadata": {},
   "outputs": [],
   "source": []
  }
 ],
 "metadata": {
  "kernelspec": {
   "display_name": "Python 3",
   "language": "python",
   "name": "python3"
  },
  "language_info": {
   "codemirror_mode": {
    "name": "ipython",
    "version": 3
   },
   "file_extension": ".py",
   "mimetype": "text/x-python",
   "name": "python",
   "nbconvert_exporter": "python",
   "pygments_lexer": "ipython3",
   "version": "3.6.4"
  }
 },
 "nbformat": 4,
 "nbformat_minor": 2
}
