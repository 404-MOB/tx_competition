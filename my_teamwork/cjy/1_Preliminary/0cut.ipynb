{
 "cells": [
  {
   "cell_type": "code",
   "execution_count": null,
   "metadata": {},
   "outputs": [],
   "source": [
    "from csv import DictWriter\n",
    "import pandas as pd\n",
    "import os"
   ]
  },
  {
   "cell_type": "code",
   "execution_count": null,
   "metadata": {},
   "outputs": [],
   "source": [
    "def mkSubFile(lines, head, srcName, sub):\n",
    "    [des_filename, extname] = os.path.splitext(srcName)\n",
    "    filename = des_filename + '_' + str(sub) + extname\n",
    "    print('make file: %s' % filename)\n",
    "    fout = open(filename, 'w')\n",
    "    try:\n",
    "        fout.writelines([head])\n",
    "        fout.writelines(lines)\n",
    "        return sub + 1\n",
    "    finally:\n",
    "        fout.close()"
   ]
  },
  {
   "cell_type": "code",
   "execution_count": null,
   "metadata": {},
   "outputs": [],
   "source": [
    "def splitByLineCount(filename, count):\n",
    "    fin = open(filename, 'r')\n",
    "    try:\n",
    "        head = fin.readline()\n",
    "        buf = []\n",
    "        sub = 1\n",
    "        for line in fin:\n",
    "            buf.append(line)\n",
    "            if len(buf) == count:\n",
    "                sub = mkSubFile(buf, head, filename, sub)\n",
    "                buf = []\n",
    "        if len(buf) != 0:\n",
    "            sub = mkSubFile(buf, head, filename, sub)\n",
    "    finally:\n",
    "        fin.close()"
   ]
  },
  {
   "cell_type": "code",
   "execution_count": null,
   "metadata": {},
   "outputs": [],
   "source": [
    "splitByLineCount('../data/userFeature.csv', 400000)  #29份\n",
    "\n",
    "splitByLineCount('../data/train.csv', 320000)  #28份\n",
    "\n",
    "splitByLineCount('../data/test1.csv', 80000)  #29份"
   ]
  },
  {
   "cell_type": "code",
   "execution_count": null,
   "metadata": {},
   "outputs": [],
   "source": []
  }
 ],
 "metadata": {
  "kernelspec": {
   "display_name": "Python 3",
   "language": "python",
   "name": "python3"
  },
  "language_info": {
   "codemirror_mode": {
    "name": "ipython",
    "version": 3
   },
   "file_extension": ".py",
   "mimetype": "text/x-python",
   "name": "python",
   "nbconvert_exporter": "python",
   "pygments_lexer": "ipython3",
   "version": "3.6.4"
  }
 },
 "nbformat": 4,
 "nbformat_minor": 2
}
