{
 "cells": [
  {
   "cell_type": "markdown",
   "metadata": {},
   "source": [
    "## 需要之前导出的data.csv和data_label1.csv，最终生成newdata.csv"
   ]
  },
  {
   "cell_type": "code",
   "execution_count": null,
   "metadata": {},
   "outputs": [],
   "source": [
    "from csv import DictWriter\n",
    "import pandas as pd\n",
    "import os"
   ]
  },
  {
   "cell_type": "code",
   "execution_count": null,
   "metadata": {},
   "outputs": [],
   "source": [
    "#导出data中label为0的\n",
    "data = pd.read_csv('../data/data.csv')\n",
    "\n",
    "if os.path.exists('data_label0.csv'):\n",
    "    data0=pd.read_csv('data_label0.csv')\n",
    "else:\n",
    "    data0 = data[data['label'] == 0] \n",
    "    data0.to_csv('data_label0.csv', index=False)"
   ]
  },
  {
   "cell_type": "code",
   "execution_count": null,
   "metadata": {},
   "outputs": [],
   "source": [
    "def mkSubFile(lines, head, srcName, sub):\n",
    "    [des_filename, extname] = os.path.splitext(srcName)\n",
    "    filename = des_filename + '_' + str(sub) + extname\n",
    "    print('make file: %s' % filename)\n",
    "    fout = open(filename, 'w')\n",
    "    try:\n",
    "        fout.writelines([head])\n",
    "        fout.writelines(lines)\n",
    "        return sub + 1\n",
    "    finally:\n",
    "        fout.close()"
   ]
  },
  {
   "cell_type": "code",
   "execution_count": null,
   "metadata": {},
   "outputs": [],
   "source": [
    "def splitByLineCount(filename, count):\n",
    "    fin = open(filename, 'r')\n",
    "    try:\n",
    "        head = fin.readline()\n",
    "        buf = []\n",
    "        sub = 1\n",
    "        for line in fin:\n",
    "            buf.append(line)\n",
    "            if len(buf) == count:\n",
    "                sub = mkSubFile(buf, head, filename, sub)\n",
    "                buf = []\n",
    "        if len(buf) != 0:\n",
    "            sub = mkSubFile(buf, head, filename, sub)\n",
    "    finally:\n",
    "        fin.close()"
   ]
  },
  {
   "cell_type": "code",
   "execution_count": null,
   "metadata": {},
   "outputs": [],
   "source": [
    "#切分数据\n",
    "if os.path.exists('data_label0_1.csv'):\n",
    "    datax0=pd.read_csv('data_label0_1.csv')\n",
    "else:\n",
    "    splitByLineCount('data_label0.csv', 421961)\n",
    "    datax0=pd.read_csv('data_label0_1.csv')"
   ]
  },
  {
   "cell_type": "code",
   "execution_count": null,
   "metadata": {},
   "outputs": [],
   "source": [
    "del data\n",
    "del data0"
   ]
  },
  {
   "cell_type": "code",
   "execution_count": null,
   "metadata": {},
   "outputs": [],
   "source": [
    "predict = pd.read_csv('../data/test1.csv')\n",
    "predict['label']=-1\n",
    "\n",
    "ad_feature=pd.read_csv('../data/adFeature.csv')\n",
    "user_feature=pd.read_csv('../data/userFeature.csv')\n",
    "\n",
    "predict=pd.merge(predict,ad_feature,on='aid',how='left')\n",
    "predict=pd.merge(predict,user_feature,on='uid',how='left')"
   ]
  },
  {
   "cell_type": "code",
   "execution_count": null,
   "metadata": {},
   "outputs": [],
   "source": [
    "#datax0 = pd.read_csv('data_label0_1.csv')\n",
    "datax1 = pd.read_csv('data_label1.csv')\n",
    "\n",
    "frames = [datax0, datax1, predict]\n",
    "datax=pd.concat(frames)"
   ]
  },
  {
   "cell_type": "code",
   "execution_count": null,
   "metadata": {},
   "outputs": [],
   "source": [
    "newdata = pd.DataFrame(datax)\n",
    "newdata.to_csv('newdata.csv', index=False)"
   ]
  }
 ],
 "metadata": {
  "kernelspec": {
   "display_name": "Python 3",
   "language": "python",
   "name": "python3"
  },
  "language_info": {
   "codemirror_mode": {
    "name": "ipython",
    "version": 3
   },
   "file_extension": ".py",
   "mimetype": "text/x-python",
   "name": "python",
   "nbconvert_exporter": "python",
   "pygments_lexer": "ipython3",
   "version": "3.6.4"
  }
 },
 "nbformat": 4,
 "nbformat_minor": 2
}
