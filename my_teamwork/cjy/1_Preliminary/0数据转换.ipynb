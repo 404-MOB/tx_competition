{
 "cells": [
  {
   "cell_type": "code",
   "execution_count": 1,
   "metadata": {},
   "outputs": [],
   "source": [
    "import pandas as pd\n",
    "import numpy as np\n",
    "import lightgbm as lgb\n",
    "from sklearn.model_selection import train_test_split\n",
    "from sklearn.feature_extraction.text import CountVectorizer#,TfidfTransformer\n",
    "from sklearn.preprocessing import OneHotEncoder,LabelEncoder\n",
    "from scipy import sparse\n",
    "import os"
   ]
  },
  {
   "cell_type": "code",
   "execution_count": 2,
   "metadata": {},
   "outputs": [],
   "source": [
    "ad_feature=pd.read_csv('../data/adFeature.csv')\n",
    "user_feature=pd.read_csv('../data/userFeature/userFeature_2.csv')#29\n",
    "train=pd.read_csv('../data/train/train_1.csv')\n",
    "predict=pd.read_csv('../data/test1/test1_1.csv')"
   ]
  },
  {
   "cell_type": "code",
   "execution_count": 3,
   "metadata": {},
   "outputs": [],
   "source": [
    "train.loc[train['label']==-1,'label']=0\n",
    "predict['label']=-1\n",
    "data=pd.concat([train,predict])\n",
    "data=pd.merge(data,ad_feature,on='aid',how='left')\n",
    "data=pd.merge(data,user_feature,on='uid',how='left')\n",
    "data=data.fillna('-1')\n",
    "\n",
    "#data_label1 = data[data.label == 1]"
   ]
  },
  {
   "cell_type": "code",
   "execution_count": 5,
   "metadata": {},
   "outputs": [
    {
     "name": "stdout",
     "output_type": "stream",
     "text": [
      "data has been reshaped OK!\n"
     ]
    }
   ],
   "source": [
    "#转化数值，减少内存\n",
    "obj2uint8=['label','advertiserId','campaignId','creativeId','creativeSize','adCategoryId','productId','productType','age','gender','education','consumptionAbility','carrier','house']\n",
    "for feature in obj2uint8:\n",
    "    #print(feature+' is transformed to interger num...')\n",
    "    data[feature]=data[feature].astype('uint8')\n",
    "\n",
    "#print('LBS is transformed to interger num...')\n",
    "data['LBS']=data['LBS'].astype('uint16')\n",
    "\n",
    "print('data has been reshaped OK!')"
   ]
  },
  {
   "cell_type": "code",
   "execution_count": 6,
   "metadata": {},
   "outputs": [
    {
     "name": "stdout",
     "output_type": "stream",
     "text": [
      " has been transformed OK!\n"
     ]
    }
   ],
   "source": [
    "# 处理联网类型特征,多值->对应位标记为1\n",
    "\n",
    "#因为只读了部分userFeature,所以做连接没连到的值会变成'-1'，这里暂且先替换为'0'。   \n",
    "#遍历全部userFeature连接后是不会有'-1'的,就可以删掉下面这行\n",
    "data.loc[ (data.ct == '-1' ), 'ct' ] = '0'\n",
    "\n",
    "ct = data['ct'].values\n",
    "ct = [m.split(' ') for m in ct]\n",
    "cts = []\n",
    "for i in ct:\n",
    "    index = [0, 0, 0, 0, 0]\n",
    "    for j in i:\n",
    "        index[int(j)] = 1\n",
    "    cts.append(index)\n",
    "    \n",
    "for i in ['0','1','2','3','4']:\n",
    "    name='ct_'+ i\n",
    "    locals()[name]= []\n",
    "    for line in cts:\n",
    "        c =  np.array(line)\n",
    "        locals()[name].append(c[0])\n",
    "    data[name]=locals()[name]\n",
    "\n",
    "data = data.drop(['ct'], axis=1)\n",
    "print('ct has been transformed OK!')"
   ]
  },
  {
   "cell_type": "code",
   "execution_count": 7,
   "metadata": {},
   "outputs": [
    {
     "name": "stdout",
     "output_type": "stream",
     "text": [
      "<class 'pandas.core.frame.DataFrame'>\n",
      "Int64Index: 400000 entries, 0 to 399999\n",
      "Data columns (total 37 columns):\n",
      "aid                   400000 non-null int64\n",
      "uid                   400000 non-null int64\n",
      "label                 400000 non-null uint8\n",
      "advertiserId          400000 non-null uint8\n",
      "campaignId            400000 non-null uint8\n",
      "creativeId            400000 non-null uint8\n",
      "creativeSize          400000 non-null uint8\n",
      "adCategoryId          400000 non-null uint8\n",
      "productId             400000 non-null uint8\n",
      "productType           400000 non-null uint8\n",
      "age                   400000 non-null uint8\n",
      "gender                400000 non-null uint8\n",
      "marriageStatus        400000 non-null object\n",
      "education             400000 non-null uint8\n",
      "consumptionAbility    400000 non-null uint8\n",
      "LBS                   400000 non-null uint16\n",
      "interest1             400000 non-null object\n",
      "interest2             400000 non-null object\n",
      "interest3             400000 non-null object\n",
      "interest4             400000 non-null object\n",
      "interest5             400000 non-null object\n",
      "kw1                   400000 non-null object\n",
      "kw2                   400000 non-null object\n",
      "kw3                   400000 non-null object\n",
      "topic1                400000 non-null object\n",
      "topic2                400000 non-null object\n",
      "topic3                400000 non-null object\n",
      "appIdInstall          400000 non-null object\n",
      "appIdAction           400000 non-null object\n",
      "os                    400000 non-null object\n",
      "carrier               400000 non-null uint8\n",
      "house                 400000 non-null uint8\n",
      "ct_0                  400000 non-null int64\n",
      "ct_1                  400000 non-null int64\n",
      "ct_2                  400000 non-null int64\n",
      "ct_3                  400000 non-null int64\n",
      "ct_4                  400000 non-null int64\n",
      "dtypes: int64(7), object(15), uint16(1), uint8(14)\n",
      "memory usage: 76.3+ MB\n"
     ]
    }
   ],
   "source": [
    "data.info()"
   ]
  },
  {
   "cell_type": "markdown",
   "metadata": {},
   "source": [
    "#------------------------------分割线（底下的还没弄完）-----------------------------------------"
   ]
  },
  {
   "cell_type": "code",
   "execution_count": null,
   "metadata": {},
   "outputs": [],
   "source": [
    "train_all_interest = X_train[['interest1', 'interest2', 'interest5', 'kw1', 'kw2', 'topic1', 'topic2']]\n",
    "test_all_interest = X_test[['interest1', 'interest2', 'interest5', 'kw1', 'kw2', 'topic1', 'topic2']]\n",
    "num_all_interest_train = []\n",
    "num_all_interest_test = []\n",
    "aids = []\n",
    "train_array = np.array(train_all_interest)\n",
    "test_array = np.array(test_all_interest)\n",
    "\n",
    "for i in range(train_array.shape[0]):\n",
    "    num = 0\n",
    "    inter = train_array[i]\n",
    "    for j in inter:\n",
    "        inter_lis = j.split(' ')\n",
    "        if inter_lis[0] == '-1':\n",
    "            continue\n",
    "        num += len(inter_lis)\n",
    "    num_all_interest_train.append(num)"
   ]
  },
  {
   "cell_type": "code",
   "execution_count": null,
   "metadata": {},
   "outputs": [],
   "source": [
    "data.info()"
   ]
  }
 ],
 "metadata": {
  "kernelspec": {
   "display_name": "Python 3",
   "language": "python",
   "name": "python3"
  },
  "language_info": {
   "codemirror_mode": {
    "name": "ipython",
    "version": 3
   },
   "file_extension": ".py",
   "mimetype": "text/x-python",
   "name": "python",
   "nbconvert_exporter": "python",
   "pygments_lexer": "ipython3",
   "version": "3.6.4"
  }
 },
 "nbformat": 4,
 "nbformat_minor": 2
}
