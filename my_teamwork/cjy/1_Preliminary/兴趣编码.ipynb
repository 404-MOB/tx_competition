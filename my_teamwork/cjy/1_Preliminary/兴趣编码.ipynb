{
 "cells": [
  {
   "cell_type": "code",
   "execution_count": null,
   "metadata": {},
   "outputs": [],
   "source": [
    "#把兴趣按子片段重新编码\n",
    "vec = data_label1[['interest1', 'interest2', 'interest3','interest4','interest5', 'kw1', 'kw2', 'kw3', 'topic1', 'topic2', 'topic3']]\n",
    "\n",
    "vecc = vec['interest1'].value_counts()[:2000]#代表出现数量前2000名的兴趣子片段，调大可提高精度\n",
    "vecc_Fragment = vecc.index.tolist()\n",
    "vecc_laber_encoder = LabelEncoder().fit_transform(vecc_Fragment)\n",
    "vecci = dict(zip(vecc_Fragment,vecc_laber_encoder))\n",
    "\n",
    "vecci['-1']\n",
    "#vecci['36 11']"
   ]
  },
  {
   "cell_type": "code",
   "execution_count": null,
   "metadata": {},
   "outputs": [],
   "source": [
    "#把兴趣按子片段重新编码\n",
    "vec = ['interest1', 'interest2', 'interest3','interest4','interest5', 'kw1', 'kw2', 'kw3', 'topic1', 'topic2', 'topic3']\n",
    "\n",
    "for i in vec:\n",
    "    vecc = data_label1[i].value_counts()[:2000]#代表data_label1中出现数量前2000名的兴趣子片段，调大可提高精度\n",
    "    vecc_Fragment = vecc.index.tolist()\n",
    "    vecc_laber_encoder = LabelEncoder().fit_transform(vecc_Fragment)\n",
    "    name='vecci_'+ i\n",
    "    locals()[name]= dict(zip(vecc_Fragment,vecc_laber_encoder)) #动态申请变量名并且赋值,得到vecci_interest1等一组字典\n",
    "    linev = []\n",
    "    for line in data[i]:\n",
    "        if line == '-1':\n",
    "            linev.append(0)\n",
    "            continue\n",
    "        for vk in locals()['vecci_'+ i].keys():\n",
    "            #if  vk == '-1':\n",
    "                #continue\n",
    "            if line.find(vk):\n",
    "                print('line:'+line)\n",
    "                print('vk:'+vk)\n",
    "                linev.append(locals()['vecci_'+ i][vk])\n",
    "                print(linev)\n",
    "                break\n",
    "            else:\n",
    "                linev.append(0)\n",
    "                break\n"
   ]
  }
 ],
 "metadata": {
  "kernelspec": {
   "display_name": "Python 3",
   "language": "python",
   "name": "python3"
  },
  "language_info": {
   "codemirror_mode": {
    "name": "ipython",
    "version": 3
   },
   "file_extension": ".py",
   "mimetype": "text/x-python",
   "name": "python",
   "nbconvert_exporter": "python",
   "pygments_lexer": "ipython3",
   "version": "3.6.4"
  }
 },
 "nbformat": 4,
 "nbformat_minor": 2
}
