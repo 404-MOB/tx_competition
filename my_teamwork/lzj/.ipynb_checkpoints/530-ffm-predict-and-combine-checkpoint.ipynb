{
 "cells": [
  {
   "cell_type": "markdown",
   "metadata": {},
   "source": [
    "### 切分test_ffm.csv和test.csv，分开预测输出submission.csv后合并\n",
    "* 新建test文件夹，并将转换好的完整.csv存放进去\n",
    "* 新建test_ffm文件夹，并将转换好的完整test_ffm.csv存放进去\n",
    "* 新建submission文件夹\n",
    "* 我写的是100W行切分，切出来多少份看具体情况，假设切除来的是N份"
   ]
  },
  {
   "cell_type": "code",
   "execution_count": null,
   "metadata": {},
   "outputs": [],
   "source": [
    "from csv import DictWriter\n",
    "import pandas as pd\n",
    "import os"
   ]
  },
  {
   "cell_type": "code",
   "execution_count": null,
   "metadata": {},
   "outputs": [],
   "source": [
    "def mkSubFile_ffm(lines, srcName, sub):\n",
    "    [des_filename, extname] = os.path.splitext(srcName)\n",
    "    filename = des_filename + '_' + str(sub) + extname\n",
    "    print('make file: %s' % filename)\n",
    "    fout = open(filename, 'w')\n",
    "    try:\n",
    "        fout.writelines(lines)\n",
    "        return sub + 1\n",
    "    finally:\n",
    "        fout.close()"
   ]
  },
  {
   "cell_type": "code",
   "execution_count": null,
   "metadata": {},
   "outputs": [],
   "source": [
    "def splitByLineCount_ffm(filename, count):\n",
    "    fin = open(filename, 'r')\n",
    "    try:\n",
    "        buf = []\n",
    "        sub = 1\n",
    "        for line in fin:\n",
    "            buf.append(line)\n",
    "            if len(buf) == count:\n",
    "                sub = mkSubFile(buf, head, filename, sub)\n",
    "                buf = []\n",
    "        if len(buf) != 0:\n",
    "            sub = mkSubFile(buf, head, filename, sub)\n",
    "    finally:\n",
    "        fin.close()"
   ]
  },
  {
   "cell_type": "code",
   "execution_count": null,
   "metadata": {},
   "outputs": [],
   "source": [
    "def mkSubFile(lines, head, srcName, sub):\n",
    "    [des_filename, extname] = os.path.splitext(srcName)\n",
    "    filename = des_filename + '_' + str(sub) + extname\n",
    "    print('make file: %s' % filename)\n",
    "    fout = open(filename, 'w')\n",
    "    try:\n",
    "        fout.writelines([head])\n",
    "        fout.writelines(lines)\n",
    "        return sub + 1\n",
    "    finally:\n",
    "        fout.close()"
   ]
  },
  {
   "cell_type": "code",
   "execution_count": null,
   "metadata": {},
   "outputs": [],
   "source": [
    "def splitByLineCount(filename, count):\n",
    "    fin = open(filename, 'r')\n",
    "    try:\n",
    "        head = fin.readline()\n",
    "        buf = []\n",
    "        sub = 1\n",
    "        for line in fin:\n",
    "            buf.append(line)\n",
    "            if len(buf) == count:\n",
    "                sub = mkSubFile(buf, head, filename, sub)\n",
    "                buf = []\n",
    "        if len(buf) != 0:\n",
    "            sub = mkSubFile(buf, head, filename, sub)\n",
    "    finally:\n",
    "        fin.close()"
   ]
  },
  {
   "cell_type": "code",
   "execution_count": null,
   "metadata": {},
   "outputs": [],
   "source": [
    "path = 'data1'\n",
    "\n",
    "test_name = 'test'\n",
    "test_ffm_name = 'test_ffm'\n",
    "splitByLineCount_ffm('%s/test_ffm/%s.csv'%(path,test_ffm_name),1000000)\n",
    "splitByLineCount('%s/test/%s.csv'%(path,test_name),1000000)"
   ]
  },
  {
   "cell_type": "markdown",
   "metadata": {},
   "source": [
    "### 循环预测\n",
    "* 新建submission文件夹放批量预测的结果\n",
    "* 预测的end=上面切出的份数，N"
   ]
  },
  {
   "cell_type": "code",
   "execution_count": null,
   "metadata": {},
   "outputs": [],
   "source": [
    "import pandas as pd\n",
    "from pandas import get_dummies\n",
    "import lightgbm as lgb\n",
    "from sklearn.feature_extraction.text import CountVectorizer\n",
    "from sklearn.preprocessing import OneHotEncoder,LabelEncoder\n",
    "from scipy import sparse\n",
    "import numpy as np\n",
    "import os\n",
    "import gc\n",
    "import xlearn as xl\n",
    "import time"
   ]
  },
  {
   "cell_type": "code",
   "execution_count": null,
   "metadata": {},
   "outputs": [],
   "source": [
    "path = 'data1'\n",
    "test_name = 'test'\n",
    "train_ffm_name = 'train_ffm.csv'\n",
    "vali_ffm_name = 'vali_ffm.csv'\n",
    "test_ffm_name = 'test_ffm'\n",
    "submission_name = 'submission'\n",
    "\n",
    "model_name = path+\"/model.out\"\n",
    "output_name = path+\"/output.txt\""
   ]
  },
  {
   "cell_type": "code",
   "execution_count": null,
   "metadata": {},
   "outputs": [],
   "source": [
    "model_name = path+\"/model.out\"\n",
    "output_name = path+\"/submission/output.txt\"\n",
    "beg = 1\n",
    "end = 12      # test切分的份数\n",
    "for i in range(beg,end+1):        # \n",
    "    ffm_model = xl.create_ffm()\n",
    "    ffm_model.setSigmoid()\n",
    "    s_1 = time.time()\n",
    "    ffm_model.setTest('%s/test_ffm/%s_%d.csv'%(path,test_ffm_name,i))\n",
    "    ffm_model.predict(model_name,output_name)\n",
    "    sub = pd.DataFrame()\n",
    "    test_df = pd.read_csv('%s/test/%s_%d.csv'%(path,test_name,i))\n",
    "    sub['aid']=test_df['aid']\n",
    "    sub['uid']=test_df['uid']\n",
    "    sub['score'] = np.loadtxt(output_name)\n",
    "    sub.to_csv('%s/submission/%s_%d.csv'%(path,submission_name,i),index=False)\n",
    "    if os.path.exists(output_name):\n",
    "        os.remove(output_name)\n",
    "    del test_df\n",
    "    del ffm_model\n",
    "    del sub\n",
    "    gc.collect()\n",
    "    s_2 = time.time()\n",
    "    print('%s_%d.csv use time : %d'%(test_name,i,(s_2-s_1)))"
   ]
  },
  {
   "cell_type": "markdown",
   "metadata": {},
   "source": [
    "### 结合N份submission_*.csv子文件\n",
    "* 份数为N,这里是12"
   ]
  },
  {
   "cell_type": "code",
   "execution_count": null,
   "metadata": {},
   "outputs": [],
   "source": [
    "import pandas as pd\n",
    "import numpy as np\n",
    "import gc\n",
    "import time"
   ]
  },
  {
   "cell_type": "code",
   "execution_count": null,
   "metadata": {},
   "outputs": [],
   "source": [
    "def combineFile(filename, num):\n",
    "    for i in range(1,num+1):\n",
    "        try:\n",
    "            load_filename = 'data1/submission/submission_%d.csv'%i\n",
    "            fin = open(load_filename,'r')\n",
    "            fout = open(filename,'a')\n",
    "            head = fin.readline()\n",
    "            if i == 1:\n",
    "                fout.writelines([head])\n",
    "            buf = []\n",
    "            for line in fin:\n",
    "                buf.append(line)\n",
    "            fout.writelines(buf)\n",
    "        finally:\n",
    "            fin.close()\n",
    "            fout.close()"
   ]
  },
  {
   "cell_type": "code",
   "execution_count": null,
   "metadata": {},
   "outputs": [],
   "source": [
    "N = 12\n",
    "combineFile('data1/submission.csv',N)"
   ]
  },
  {
   "cell_type": "code",
   "execution_count": null,
   "metadata": {},
   "outputs": [],
   "source": []
  }
 ],
 "metadata": {
  "kernelspec": {
   "display_name": "Python 3",
   "language": "python",
   "name": "python3"
  },
  "language_info": {
   "codemirror_mode": {
    "name": "ipython",
    "version": 3
   },
   "file_extension": ".py",
   "mimetype": "text/x-python",
   "name": "python",
   "nbconvert_exporter": "python",
   "pygments_lexer": "ipython3",
   "version": "3.6.4"
  }
 },
 "nbformat": 4,
 "nbformat_minor": 2
}
