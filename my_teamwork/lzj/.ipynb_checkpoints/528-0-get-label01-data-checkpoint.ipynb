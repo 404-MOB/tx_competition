{
 "cells": [
  {
   "cell_type": "markdown",
   "metadata": {},
   "source": [
    "### 说明 \n",
    "* 把所有数据放在同级的data目录里\n",
    "* 这个文件会得到一个data.csv文件\n",
    "* 这个文件是导出的train里label01比例1:1的数据集"
   ]
  },
  {
   "cell_type": "code",
   "execution_count": 1,
   "metadata": {},
   "outputs": [],
   "source": [
    "import pandas as pd\n",
    "import numpy as np\n",
    "import gc\n",
    "import os"
   ]
  },
  {
   "cell_type": "code",
   "execution_count": 2,
   "metadata": {},
   "outputs": [],
   "source": [
    "path = 'data'\n",
    "train_name = 'train'\n",
    "ad_feature_name = 'adFeature'\n",
    "user_feature_name = 'userFeature'\n",
    "test_name = 'test'"
   ]
  },
  {
   "cell_type": "code",
   "execution_count": 3,
   "metadata": {},
   "outputs": [],
   "source": [
    "train = pd.read_csv('%s/%s.csv'%(path,train_name))"
   ]
  },
  {
   "cell_type": "code",
   "execution_count": 4,
   "metadata": {},
   "outputs": [
    {
     "name": "stderr",
     "output_type": "stream",
     "text": [
      "/home/lzj/.conda/envs/py3/lib/python3.6/site-packages/ipykernel_launcher.py:3: SettingWithCopyWarning: \n",
      "A value is trying to be set on a copy of a slice from a DataFrame.\n",
      "Try using .loc[row_indexer,col_indexer] = value instead\n",
      "\n",
      "See the caveats in the documentation: http://pandas.pydata.org/pandas-docs/stable/indexing.html#indexing-view-versus-copy\n",
      "  This is separate from the ipykernel package so we can avoid doing imports until\n"
     ]
    },
    {
     "data": {
      "text/plain": [
       "0"
      ]
     },
     "execution_count": 4,
     "metadata": {},
     "output_type": "execute_result"
    }
   ],
   "source": [
    "train_label_1 = train[train.label == 1]\n",
    "train_label_0 = train[train.label == -1]\n",
    "train_label_0['label'] = 0\n",
    "label_1_num = len(train_label_1)\n",
    "label_0_num = len(train_label_0)\n",
    "del train\n",
    "gc.collect()"
   ]
  },
  {
   "cell_type": "code",
   "execution_count": 5,
   "metadata": {},
   "outputs": [],
   "source": [
    "train_label_1.to_csv('%s/%s.csv'%(path,'train_label_1'),index=False)\n",
    "train_label_0.to_csv('%s/%s.csv'%(path,'train_label_0'),index=False)"
   ]
  },
  {
   "cell_type": "code",
   "execution_count": 6,
   "metadata": {},
   "outputs": [],
   "source": [
    "def mkSubFile(lines, head, srcName, sub):\n",
    "    [des_filename, extname] = os.path.splitext(srcName)\n",
    "    filename = des_filename + '_' + str(sub) + extname\n",
    "    print('make file: %s' % filename)\n",
    "    fout = open(filename, 'w')\n",
    "    try:\n",
    "        fout.writelines([head])\n",
    "        fout.writelines(lines)\n",
    "        return sub + 1\n",
    "    finally:\n",
    "        fout.close()"
   ]
  },
  {
   "cell_type": "code",
   "execution_count": 7,
   "metadata": {},
   "outputs": [],
   "source": [
    "def splitByLineCount(filename, count):\n",
    "    fin = open(filename, 'r')\n",
    "    try:\n",
    "        head = fin.readline()\n",
    "        buf = []\n",
    "        sub = 1\n",
    "        for line in fin:\n",
    "            buf.append(line)\n",
    "            if len(buf) == count:\n",
    "                sub = mkSubFile(buf, head, filename, sub)\n",
    "                buf = []\n",
    "        if len(buf) != 0:\n",
    "            sub = mkSubFile(buf, head, filename, sub)\n",
    "    finally:\n",
    "        fin.close()"
   ]
  },
  {
   "cell_type": "code",
   "execution_count": 8,
   "metadata": {
    "scrolled": true
   },
   "outputs": [
    {
     "name": "stdout",
     "output_type": "stream",
     "text": [
      "make file: data/train_label_0_1.csv\n",
      "make file: data/train_label_0_2.csv\n",
      "make file: data/train_label_0_3.csv\n",
      "make file: data/train_label_0_4.csv\n",
      "make file: data/train_label_0_5.csv\n",
      "make file: data/train_label_0_6.csv\n",
      "make file: data/train_label_0_7.csv\n",
      "make file: data/train_label_0_8.csv\n",
      "make file: data/train_label_0_9.csv\n",
      "make file: data/train_label_0_10.csv\n",
      "make file: data/train_label_0_11.csv\n",
      "make file: data/train_label_0_12.csv\n",
      "make file: data/train_label_0_13.csv\n",
      "make file: data/train_label_0_14.csv\n",
      "make file: data/train_label_0_15.csv\n",
      "make file: data/train_label_0_16.csv\n",
      "make file: data/train_label_0_17.csv\n",
      "make file: data/train_label_0_18.csv\n",
      "make file: data/train_label_0_19.csv\n",
      "make file: data/train_label_0_20.csv\n"
     ]
    }
   ],
   "source": [
    "splitByLineCount('%s/%s.csv'%(path,'train_label_0'),label_1_num)"
   ]
  },
  {
   "cell_type": "code",
   "execution_count": 9,
   "metadata": {},
   "outputs": [],
   "source": [
    "import pandas as pd\n",
    "import numpy as np\n",
    "import gc"
   ]
  },
  {
   "cell_type": "code",
   "execution_count": 10,
   "metadata": {},
   "outputs": [],
   "source": [
    "path = 'data'\n",
    "train_0_name = 'train_label_0_1'   # 选取label_0所有切分子文件的第一个\n",
    "train_1_name = 'train_label_1'\n",
    "ad_feature_name = 'adFeature'\n",
    "user_feature_name = 'userFeature'\n",
    "test_name = 'test'\n",
    "data_name = 'data'"
   ]
  },
  {
   "cell_type": "code",
   "execution_count": 11,
   "metadata": {},
   "outputs": [
    {
     "data": {
      "text/plain": [
       "7"
      ]
     },
     "execution_count": 11,
     "metadata": {},
     "output_type": "execute_result"
    }
   ],
   "source": [
    "train_0 = pd.read_csv('%s/%s.csv'%(path,train_0_name))\n",
    "train_1 = pd.read_csv('%s/%s.csv'%(path,train_1_name))\n",
    "data = pd.concat([train_0,train_1],ignore_index=True)\n",
    "del train_0\n",
    "del train_1\n",
    "gc.collect()"
   ]
  },
  {
   "cell_type": "code",
   "execution_count": 12,
   "metadata": {},
   "outputs": [
    {
     "data": {
      "text/plain": [
       "7"
      ]
     },
     "execution_count": 12,
     "metadata": {},
     "output_type": "execute_result"
    }
   ],
   "source": [
    "data.to_csv('%s/%s.csv'%(path,data_name),index=False)\n",
    "del data\n",
    "gc.collect()"
   ]
  }
 ],
 "metadata": {
  "kernelspec": {
   "display_name": "Python 3",
   "language": "python",
   "name": "python3"
  },
  "language_info": {
   "codemirror_mode": {
    "name": "ipython",
    "version": 3
   },
   "file_extension": ".py",
   "mimetype": "text/x-python",
   "name": "python",
   "nbconvert_exporter": "python",
   "pygments_lexer": "ipython3",
   "version": "3.6.4"
  }
 },
 "nbformat": 4,
 "nbformat_minor": 2
}
