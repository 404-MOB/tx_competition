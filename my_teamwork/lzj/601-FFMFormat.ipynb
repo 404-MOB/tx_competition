{
 "cells": [
  {
   "cell_type": "code",
   "execution_count": 1,
   "metadata": {},
   "outputs": [],
   "source": [
    "import pandas as pd\n",
    "from pandas import get_dummies\n",
    "import lightgbm as lgb\n",
    "from sklearn.feature_extraction.text import CountVectorizer\n",
    "from sklearn.preprocessing import OneHotEncoder,LabelEncoder\n",
    "from scipy import sparse\n",
    "import numpy as np\n",
    "import os\n",
    "import gc\n",
    "import xlearn as xl\n",
    "import math"
   ]
  },
  {
   "cell_type": "code",
   "execution_count": 2,
   "metadata": {},
   "outputs": [],
   "source": [
    "class FFMFormat:\n",
    "    def __init__(self,vector_feat,one_hot_feat,continus_feat):\n",
    "        self.field_index_ = None\n",
    "        self.feature_index_ = None\n",
    "        self.vector_feat=vector_feat\n",
    "        self.one_hot_feat=one_hot_feat\n",
    "        self.continus_feat=continus_feat\n",
    "        \n",
    "    def get_params(self):\n",
    "        pass\n",
    "\n",
    "    def set_params(self, **parameters):\n",
    "        pass\n",
    "\n",
    "    def fit(self, df, y=None):\n",
    "        self.field_index_ = {col: i for i, col in enumerate(df.columns)}\n",
    "        self.feature_index_ = dict()\n",
    "        last_idx = 0\n",
    "        for col in df.columns:\n",
    "            if col in self.one_hot_feat:\n",
    "                print(col)\n",
    "                df[col]=df[col].astype('int')\n",
    "                vals = np.unique(df[col])\n",
    "                for val in vals:\n",
    "                    if val==-1: continue\n",
    "                    name = '{}_{}'.format(col, val)\n",
    "                    if name not in self.feature_index_:\n",
    "                        self.feature_index_[name] = last_idx\n",
    "                        last_idx += 1\n",
    "            elif col in self.vector_feat:\n",
    "                print(col)\n",
    "                vals=[]\n",
    "                for data in df[col].apply(str):\n",
    "                    if data!=\"-1\":\n",
    "                        for word in data.strip().split(' '):\n",
    "                            vals.append(word)\n",
    "                vals = np.unique(vals)\n",
    "                for val in vals:\n",
    "                    if val==\"-1\": continue\n",
    "                    name = '{}_{}'.format(col, val)\n",
    "                    if name not in self.feature_index_:\n",
    "                        self.feature_index_[name] = last_idx\n",
    "                        last_idx += 1\n",
    "            self.feature_index_[col] = last_idx\n",
    "            last_idx += 1\n",
    "        return self\n",
    "\n",
    "    def fit_transform(self, df, y=None):\n",
    "        self.fit(df, y)\n",
    "        return self.transform(df)\n",
    "\n",
    "    def transform_row_(self, row):\n",
    "        ffm = []\n",
    "\n",
    "        for col, val in row.loc[row != 0].to_dict().items():\n",
    "            if col in self.one_hot_feat:\n",
    "                name = '{}_{}'.format(col, val)\n",
    "                if name in self.feature_index_:\n",
    "                    ffm.append('{}:{}:1'.format(self.field_index_[col], self.feature_index_[name]))\n",
    "                # ffm.append('{}:{}:{}'.format(self.field_index_[col], self.feature_index_[col], 1))\n",
    "            elif col in self.vector_feat:\n",
    "                for word in str(val).split(' '):\n",
    "                    name = '{}_{}'.format(col, word)\n",
    "                    if name in self.feature_index_:\n",
    "                        ffm.append('{}:{}:1'.format(self.field_index_[col], self.feature_index_[name]))\n",
    "            elif col in self.continus_feat:\n",
    "                if val!=-1:\n",
    "                    ffm.append('{}:{}:{}'.format(self.field_index_[col], self.feature_index_[col], val))\n",
    "        return ' '.join(ffm)\n",
    "\n",
    "    def transform(self, df):\n",
    "        # val=[]\n",
    "        # for k,v in self.feature_index_.items():\n",
    "        #     val.append(v)\n",
    "        # val.sort()\n",
    "        # print(val)\n",
    "        # print(self.field_index_)\n",
    "        # print(self.feature_index_)\n",
    "        return pd.Series({idx: self.transform_row_(row) for idx, row in df.iterrows()})"
   ]
  },
  {
   "cell_type": "code",
   "execution_count": 3,
   "metadata": {},
   "outputs": [],
   "source": [
    "one_hot_feature=['LBS','age','carrier','consumptionAbility','education','gender','advertiserId','campaignId', 'creativeId',\n",
    "       'adCategoryId', 'productId', 'productType']\n",
    "vector_feature=['interest1','interest2','interest5','kw1','kw2','topic1','topic2','os','ct','marriageStatus']\n",
    "continus_feature=['creativeSize']"
   ]
  },
  {
   "cell_type": "code",
   "execution_count": 4,
   "metadata": {},
   "outputs": [],
   "source": [
    "path = 'data'\n",
    "train_name = 'full_merge_train_TF_1V1.csv'\n",
    "vali_name = 'full_merge_train_TF_1V1.csv'\n",
    "test_name = 'test.csv'\n",
    "temp_name = 'ffm.csv'\n",
    "train_ffm_name = 'train_ffm.csv'\n",
    "vali_ffm_name = 'vali_ffm.csv'\n",
    "# test_ffm_name = 'test_ffm.csv'"
   ]
  },
  {
   "cell_type": "code",
   "execution_count": 5,
   "metadata": {},
   "outputs": [
    {
     "name": "stdout",
     "output_type": "stream",
     "text": [
      "LBS\n",
      "age\n",
      "carrier\n",
      "consumptionAbility\n",
      "education\n",
      "gender\n",
      "advertiserId\n",
      "campaignId\n",
      "creativeId\n",
      "adCategoryId\n",
      "productId\n",
      "productType\n",
      "interest1\n",
      "interest2\n",
      "interest5\n",
      "kw1\n",
      "kw2\n",
      "topic1\n",
      "topic2\n",
      "os\n",
      "ct\n",
      "marriageStatus\n"
     ]
    },
    {
     "data": {
      "text/plain": [
       "2220"
      ]
     },
     "execution_count": 5,
     "metadata": {},
     "output_type": "execute_result"
    }
   ],
   "source": [
    "tr = FFMFormat(vector_feature,one_hot_feature,continus_feature)\n",
    "train = pd.read_csv(path+'/TF_1V1_train/'+train_name)\n",
    "# vali = pd.read_csv(path+'/TF_1V1_train/'+vali_name)\n",
    "test = pd.read_csv(path+'/test/'+test_name)\n",
    "\n",
    "len_train = len(train)\n",
    "len_vali = math.ceil(len_train/10)\n",
    "\n",
    "data = pd.concat([train,test],ignore_index=True)\n",
    "label = np.array(data.pop('label'))\n",
    "\n",
    "data = data[one_hot_feature+vector_feature+continus_feature]\n",
    "\n",
    "del test\n",
    "del train\n",
    "gc.collect()\n",
    "\n",
    "data_ffm = tr.fit_transform(data)\n",
    "\n",
    "if os.path.isdir(path+'/ffm') is False:\n",
    "    os.makedirs(path+'/ffm')\n",
    "data_ffm.to_csv(path+'/ffm/'+temp_name,index=False)\n",
    "\n",
    "del data_ffm\n",
    "gc.collect()"
   ]
  },
  {
   "cell_type": "code",
   "execution_count": 6,
   "metadata": {},
   "outputs": [
    {
     "name": "stdout",
     "output_type": "stream",
     "text": [
      "转换成功，数据位置：data/ffm/\n"
     ]
    }
   ],
   "source": [
    "with open(path+'/'+temp_name) as fin:\n",
    "    f_train_out = open(path+'/ffm/'+train_ffm_name,'w')\n",
    "    f_vali_out = open(path+'/ffm/'+vali_ffm_name,'w')\n",
    "    f_test_out = open(path+'/ffm/'+test_ffm_name,'w')\n",
    "    for (i,line) in enumerate(fin):\n",
    "        if i < len_vali:\n",
    "            f_vali_out.write(str(label[i])+' '+line)\n",
    "        elif i < len_train:\n",
    "            f_train_out.write(str(label[i])+' '+line)\n",
    "        else:\n",
    "            f_test_out.write(line)\n",
    "    f_train_out.close()\n",
    "    f_vali_out.close()\n",
    "    f_test_out.close()\n",
    "    print('转换成功，数据位置：'+path)"
   ]
  }
 ],
 "metadata": {
  "kernelspec": {
   "display_name": "Python 3",
   "language": "python",
   "name": "python3"
  },
  "language_info": {
   "codemirror_mode": {
    "name": "ipython",
    "version": 3
   },
   "file_extension": ".py",
   "mimetype": "text/x-python",
   "name": "python",
   "nbconvert_exporter": "python",
   "pygments_lexer": "ipython3",
   "version": "3.6.3"
  }
 },
 "nbformat": 4,
 "nbformat_minor": 2
}
