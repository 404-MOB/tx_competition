{
 "cells": [
  {
   "cell_type": "code",
   "execution_count": 1,
   "metadata": {
    "collapsed": true
   },
   "outputs": [],
   "source": [
    "from csv import DictWriter\n",
    "import pandas as pd\n",
    "import os"
   ]
  },
  {
   "cell_type": "code",
   "execution_count": 2,
   "metadata": {
    "collapsed": true
   },
   "outputs": [],
   "source": [
    "def mkSubFile(lines, head, srcName, sub):\n",
    "    [des_filename, extname] = os.path.splitext(srcName)\n",
    "    filename = des_filename + '_' + str(sub) + extname\n",
    "    print('make file: %s' % filename)\n",
    "    fout = open(filename, 'w')\n",
    "    try:\n",
    "        fout.writelines([head])\n",
    "        fout.writelines(lines)\n",
    "        return sub + 1\n",
    "    finally:\n",
    "        fout.close()"
   ]
  },
  {
   "cell_type": "code",
   "execution_count": 3,
   "metadata": {
    "collapsed": true
   },
   "outputs": [],
   "source": [
    "def splitByLineCount(filename, count):\n",
    "    fin = open(filename, 'r')\n",
    "    try:\n",
    "        head = fin.readline()\n",
    "        buf = []\n",
    "        sub = 1\n",
    "        for line in fin:\n",
    "            buf.append(line)\n",
    "            if len(buf) == count:\n",
    "                sub = mkSubFile(buf, head, filename, sub)\n",
    "                buf = []\n",
    "        if len(buf) != 0:\n",
    "            sub = mkSubFile(buf, head, filename, sub)\n",
    "    finally:\n",
    "        fin.close()"
   ]
  },
  {
   "cell_type": "code",
   "execution_count": 5,
   "metadata": {},
   "outputs": [
    {
     "name": "stdout",
     "output_type": "stream",
     "text": [
      "make file: ../data/userFeature_1.csv\n",
      "make file: ../data/userFeature_2.csv\n",
      "make file: ../data/userFeature_3.csv\n",
      "make file: ../data/userFeature_4.csv\n",
      "make file: ../data/userFeature_5.csv\n",
      "make file: ../data/userFeature_6.csv\n",
      "make file: ../data/userFeature_7.csv\n",
      "make file: ../data/userFeature_8.csv\n",
      "make file: ../data/userFeature_9.csv\n",
      "make file: ../data/userFeature_10.csv\n",
      "make file: ../data/userFeature_11.csv\n",
      "make file: ../data/userFeature_12.csv\n",
      "make file: ../data/userFeature_13.csv\n",
      "make file: ../data/userFeature_14.csv\n",
      "make file: ../data/userFeature_15.csv\n",
      "make file: ../data/userFeature_16.csv\n",
      "make file: ../data/userFeature_17.csv\n",
      "make file: ../data/userFeature_18.csv\n",
      "make file: ../data/userFeature_19.csv\n",
      "make file: ../data/userFeature_20.csv\n",
      "make file: ../data/userFeature_21.csv\n",
      "make file: ../data/userFeature_22.csv\n",
      "make file: ../data/userFeature_23.csv\n",
      "make file: ../data/userFeature_24.csv\n",
      "make file: ../data/userFeature_25.csv\n",
      "make file: ../data/userFeature_26.csv\n",
      "make file: ../data/userFeature_27.csv\n",
      "make file: ../data/userFeature_28.csv\n",
      "make file: ../data/userFeature_29.csv\n",
      "make file: ../data/train_1.csv\n",
      "make file: ../data/train_2.csv\n",
      "make file: ../data/train_3.csv\n",
      "make file: ../data/train_4.csv\n",
      "make file: ../data/train_5.csv\n",
      "make file: ../data/train_6.csv\n",
      "make file: ../data/train_7.csv\n",
      "make file: ../data/train_8.csv\n",
      "make file: ../data/train_9.csv\n",
      "make file: ../data/train_10.csv\n",
      "make file: ../data/train_11.csv\n",
      "make file: ../data/train_12.csv\n",
      "make file: ../data/train_13.csv\n",
      "make file: ../data/train_14.csv\n",
      "make file: ../data/train_15.csv\n",
      "make file: ../data/train_16.csv\n",
      "make file: ../data/train_17.csv\n",
      "make file: ../data/train_18.csv\n",
      "make file: ../data/train_19.csv\n",
      "make file: ../data/train_20.csv\n",
      "make file: ../data/train_21.csv\n",
      "make file: ../data/train_22.csv\n",
      "make file: ../data/train_23.csv\n",
      "make file: ../data/train_24.csv\n",
      "make file: ../data/train_25.csv\n",
      "make file: ../data/train_26.csv\n",
      "make file: ../data/train_27.csv\n",
      "make file: ../data/train_28.csv\n",
      "make file: ../data/test1_1.csv\n",
      "make file: ../data/test1_2.csv\n",
      "make file: ../data/test1_3.csv\n",
      "make file: ../data/test1_4.csv\n",
      "make file: ../data/test1_5.csv\n",
      "make file: ../data/test1_6.csv\n",
      "make file: ../data/test1_7.csv\n",
      "make file: ../data/test1_8.csv\n",
      "make file: ../data/test1_9.csv\n",
      "make file: ../data/test1_10.csv\n",
      "make file: ../data/test1_11.csv\n",
      "make file: ../data/test1_12.csv\n",
      "make file: ../data/test1_13.csv\n",
      "make file: ../data/test1_14.csv\n",
      "make file: ../data/test1_15.csv\n",
      "make file: ../data/test1_16.csv\n",
      "make file: ../data/test1_17.csv\n",
      "make file: ../data/test1_18.csv\n",
      "make file: ../data/test1_19.csv\n",
      "make file: ../data/test1_20.csv\n",
      "make file: ../data/test1_21.csv\n",
      "make file: ../data/test1_22.csv\n",
      "make file: ../data/test1_23.csv\n",
      "make file: ../data/test1_24.csv\n",
      "make file: ../data/test1_25.csv\n",
      "make file: ../data/test1_26.csv\n",
      "make file: ../data/test1_27.csv\n",
      "make file: ../data/test1_28.csv\n",
      "make file: ../data/test1_29.csv\n"
     ]
    }
   ],
   "source": [
    "splitByLineCount('../data/userFeature.csv', 400000)  #29份\n",
    "\n",
    "splitByLineCount('../data/train.csv', 320000)  #28份\n",
    "\n",
    "splitByLineCount('../data/test1.csv', 80000)  #29份"
   ]
  },
  {
   "cell_type": "code",
   "execution_count": null,
   "metadata": {
    "collapsed": true
   },
   "outputs": [],
   "source": []
  }
 ],
 "metadata": {
  "kernelspec": {
   "display_name": "Python 3",
   "language": "python",
   "name": "python3"
  },
  "language_info": {
   "codemirror_mode": {
    "name": "ipython",
    "version": 3
   },
   "file_extension": ".py",
   "mimetype": "text/x-python",
   "name": "python",
   "nbconvert_exporter": "python",
   "pygments_lexer": "ipython3",
   "version": "3.6.4"
  }
 },
 "nbformat": 4,
 "nbformat_minor": 2
}
